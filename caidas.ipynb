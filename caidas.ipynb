{
  "nbformat": 4,
  "nbformat_minor": 0,
  "metadata": {
    "colab": {
      "provenance": [],
      "authorship_tag": "ABX9TyMRRa/fvzASwWzW0oRDhBsA",
      "include_colab_link": true
    },
    "kernelspec": {
      "name": "python3",
      "display_name": "Python 3"
    },
    "language_info": {
      "name": "python"
    }
  },
  "cells": [
    {
      "cell_type": "markdown",
      "metadata": {
        "id": "view-in-github",
        "colab_type": "text"
      },
      "source": [
        "<a href=\"https://colab.research.google.com/github/JuanCappelletti/Consteel_H06/blob/trends/caidas.ipynb\" target=\"_parent\"><img src=\"https://colab.research.google.com/assets/colab-badge.svg\" alt=\"Open In Colab\"/></a>"
      ]
    },
    {
      "cell_type": "code",
      "source": [
        "#@title Ejecutar librerias { run: \"auto\", display-mode: \"form\" }\n",
        "from matplotlib.font_manager import json_dump\n",
        "from numpy.matrixlib.defmatrix import N\n",
        "from operator import truediv\n",
        "import numpy as np\n",
        "import pandas as pd\n",
        "from matplotlib.ticker import (MultipleLocator, AutoMinorLocator)\n",
        "import matplotlib.pyplot as plt\n",
        "import plotly.graph_objects as go\n",
        "from IPython.display import Image\n",
        "\n",
        "#Carga de tablas_______________\n",
        "Url = \"https://raw.githubusercontent.com/JuanCappelletti/Consteel_H06/main/sagomario.csv\"\n",
        "Sagomario = pd.read_csv(Url,sep=\";\",decimal=\",\")\n"
      ],
      "metadata": {
        "id": "0JbIRq4R03d6"
      },
      "execution_count": null,
      "outputs": []
    },
    {
      "cell_type": "code",
      "source": [
        "#Sagomario\n"
      ],
      "metadata": {
        "id": "AeG2Ar9s1i3J"
      },
      "execution_count": null,
      "outputs": []
    },
    {
      "cell_type": "code",
      "source": [
        "#@title Carga de datos \n",
        "Temp_celsius = 0 #@param {type:\"integer\"}\n",
        "\n",
        "Qteorico=np.linspace(1, 18000, 3600, endpoint=True,dtype=int)\n",
        "Qnormalizado=Qteorico\n",
        "\n",
        "##datos = pd.read_csv(Url,sep=\";\",decimal=\",\")\n",
        "##df=pd.DataFrame(datos)\n",
        "#dfx=df.copy()\n",
        "Qteorico\n"
      ],
      "metadata": {
        "colab": {
          "base_uri": "https://localhost:8080/"
        },
        "id": "l9pNIU5l0-2m",
        "outputId": "6dee7bb8-e3a2-4bc2-f83e-53e03b4cd90a"
      },
      "execution_count": null,
      "outputs": [
        {
          "output_type": "execute_result",
          "data": {
            "text/plain": [
              "array([    1,     6,    11, ..., 17989, 17994, 18000])"
            ]
          },
          "metadata": {},
          "execution_count": 20
        }
      ]
    },
    {
      "cell_type": "code",
      "source": [
        "def velocidad(Caudal):\n",
        "  Velocity=Caudal/1000\n",
        "  print(Velocity)"
      ],
      "metadata": {
        "id": "MdaCh1JU5w2u"
      },
      "execution_count": null,
      "outputs": []
    },
    {
      "cell_type": "code",
      "source": [
        "velocidad(Qteorico)\n",
        "\n"
      ],
      "metadata": {
        "colab": {
          "base_uri": "https://localhost:8080/"
        },
        "id": "rI51-v8-7nZS",
        "outputId": "cb575e59-1f15-4ebf-f512-6d793b0465e6"
      },
      "execution_count": null,
      "outputs": [
        {
          "output_type": "stream",
          "name": "stdout",
          "text": [
            "[1.0000e-03 6.0000e-03 1.1000e-02 ... 1.7989e+01 1.7994e+01 1.8000e+01]\n"
          ]
        }
      ]
    }
  ]
}