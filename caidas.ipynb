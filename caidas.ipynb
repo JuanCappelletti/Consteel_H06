{
  "nbformat": 4,
  "nbformat_minor": 0,
  "metadata": {
    "colab": {
      "provenance": [],
      "authorship_tag": "ABX9TyP6V5XsV1iCSyqoO+8BsBG6",
      "include_colab_link": true
    },
    "kernelspec": {
      "name": "python3",
      "display_name": "Python 3"
    },
    "language_info": {
      "name": "python"
    }
  },
  "cells": [
    {
      "cell_type": "markdown",
      "metadata": {
        "id": "view-in-github",
        "colab_type": "text"
      },
      "source": [
        "<a href=\"https://colab.research.google.com/github/JuanCappelletti/Consteel_H06/blob/trends/caidas.ipynb\" target=\"_parent\"><img src=\"https://colab.research.google.com/assets/colab-badge.svg\" alt=\"Open In Colab\"/></a>"
      ]
    },
    {
      "cell_type": "code",
      "source": [
        "#@title Ejecutar librerias { run: \"auto\", display-mode: \"form\" }\n",
        "from matplotlib.font_manager import json_dump\n",
        "from numpy.matrixlib.defmatrix import N\n",
        "from operator import truediv\n",
        "import numpy as np\n",
        "import pandas as pd\n",
        "from matplotlib.ticker import (MultipleLocator, AutoMinorLocator)\n",
        "import matplotlib.pyplot as plt\n",
        "import plotly.graph_objects as go\n",
        "from IPython.display import Image\n",
        "\n",
        "#Carga de tablas_______________\n",
        "Url = \"https://raw.githubusercontent.com/JuanCappelletti/Consteel_H06/main/sagomario.csv\"\n",
        "Sagomario = pd.read_csv(Url,sep=\";\",decimal=\",\")\n"
      ],
      "metadata": {
        "id": "0JbIRq4R03d6"
      },
      "execution_count": 25,
      "outputs": []
    },
    {
      "cell_type": "code",
      "source": [
        "#Sagomario\n"
      ],
      "metadata": {
        "id": "AeG2Ar9s1i3J"
      },
      "execution_count": null,
      "outputs": []
    },
    {
      "cell_type": "code",
      "source": [
        "from pickle import TRUE\n",
        "#@title Carga general de datos\n",
        "Qteorico=np.array(np.linspace(1, 18000, 3600, endpoint=True,dtype=int)) #Nm3/h\n",
        "Temp_celsius = 25 #@param {type:\"integer\"}\n",
        "Altitud_m = 20 #@param {type:\"number\"}\n",
        "atm_local=(1-0.00002257*Altitud_m)**5.256\n",
        "#@markdown Indicar valor de presion de partida (tildar unidad de ingreso)\n",
        "Barg = True #@param {type:\"boolean\"}\n",
        "Kgcm2 = False #@param {type:\"boolean\"}\n",
        "Pressure_in = 15 #@param {type:\"number\"}\n",
        "Temp=(Temp_celsius+273.15)/273.15 #temperatura en kelvin\n",
        "\n",
        "if Barg==True and Kgcm2== False:\n",
        "   Pressure_op= Pressure_in*0.986923 #atm\n",
        "elif Barg==False and Kgcm2== True:\n",
        "   Pressure_op= Pressure_in*0.967841 # atm\n",
        "else :\n",
        "   print('Mensaje ERROR: Se requiere opción de unidad , Tildar solo una')\n",
        "\n",
        "#print(atm_local)\n",
        "#print(Temp*273.15)\n",
        "#print(Temp)\n",
        "Qnormalizado=np.round(Qteorico*(Temp*(1/(atm_local+Pressure_op))),decimals=2)\n",
        "\n",
        "\n"
      ],
      "metadata": {
        "colab": {
          "base_uri": "https://localhost:8080/"
        },
        "id": "7XjYbd8ZzHwm",
        "outputId": "90561623-6236-477a-b34f-55c74c9b8eb0"
      },
      "execution_count": 61,
      "outputs": [
        {
          "output_type": "execute_result",
          "data": {
            "text/plain": [
              "array([7.00000e-02, 4.10000e-01, 7.60000e-01, ..., 1.24263e+03,\n",
              "       1.24298e+03, 1.24339e+03])"
            ]
          },
          "metadata": {},
          "execution_count": 61
        }
      ]
    },
    {
      "cell_type": "code",
      "source": [
        "#@title Tramo 1\n",
        "\n",
        "\n",
        "Qteorico=np.linspace(1, 18000, 3600, endpoint=True,dtype=int) #Nm3/h\n",
        "Qnormalizado=Qteorico\n",
        "\n",
        "##datos = pd.read_csv(Url,sep=\";\",decimal=\",\")\n",
        "##df=pd.DataFrame(datos)\n",
        "#dfx=df.copy()\n",
        "Qteorico\n"
      ],
      "metadata": {
        "colab": {
          "base_uri": "https://localhost:8080/"
        },
        "id": "l9pNIU5l0-2m",
        "outputId": "8a76f406-630a-4795-a410-c02f35e8eb9b"
      },
      "execution_count": 2,
      "outputs": [
        {
          "output_type": "execute_result",
          "data": {
            "text/plain": [
              "array([    1,     6,    11, ..., 17989, 17994, 18000])"
            ]
          },
          "metadata": {},
          "execution_count": 2
        }
      ]
    },
    {
      "cell_type": "code",
      "source": [
        "def velocidad(Caudal):\n",
        "  Velocity=Caudal/1000\n",
        "  print(Velocity)"
      ],
      "metadata": {
        "id": "MdaCh1JU5w2u"
      },
      "execution_count": null,
      "outputs": []
    },
    {
      "cell_type": "code",
      "source": [
        "velocidad(Qteorico)\n",
        "\n"
      ],
      "metadata": {
        "colab": {
          "base_uri": "https://localhost:8080/"
        },
        "id": "rI51-v8-7nZS",
        "outputId": "cb575e59-1f15-4ebf-f512-6d793b0465e6"
      },
      "execution_count": null,
      "outputs": [
        {
          "output_type": "stream",
          "name": "stdout",
          "text": [
            "[1.0000e-03 6.0000e-03 1.1000e-02 ... 1.7989e+01 1.7994e+01 1.8000e+01]\n"
          ]
        }
      ]
    }
  ]
}