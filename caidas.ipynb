{
  "nbformat": 4,
  "nbformat_minor": 0,
  "metadata": {
    "colab": {
      "provenance": [],
      "authorship_tag": "ABX9TyMWJdIs89YZ016cQIw4/jXt",
      "include_colab_link": true
    },
    "kernelspec": {
      "name": "python3",
      "display_name": "Python 3"
    },
    "language_info": {
      "name": "python"
    }
  },
  "cells": [
    {
      "cell_type": "markdown",
      "metadata": {
        "id": "view-in-github",
        "colab_type": "text"
      },
      "source": [
        "<a href=\"https://colab.research.google.com/github/JuanCappelletti/Consteel_H06/blob/trends/caidas.ipynb\" target=\"_parent\"><img src=\"https://colab.research.google.com/assets/colab-badge.svg\" alt=\"Open In Colab\"/></a>"
      ]
    },
    {
      "cell_type": "code",
      "source": [
        "#@title Ejecutar librerias { run: \"auto\", display-mode: \"form\" }\n",
        "from matplotlib.font_manager import json_dump\n",
        "from numpy.matrixlib.defmatrix import N\n",
        "from operator import truediv\n",
        "import numpy as np\n",
        "import pandas as pd\n",
        "from matplotlib.ticker import (MultipleLocator, AutoMinorLocator)\n",
        "import matplotlib.pyplot as plt\n",
        "import plotly.graph_objects as go\n",
        "from IPython.display import Image\n",
        "\n",
        "#Carga de tablas_______________\n",
        "Url = \"https://raw.githubusercontent.com/JuanCappelletti/Consteel_H06/main/sagomario.csv\"\n",
        "Sagomario = pd.read_csv(Url,sep=\";\",decimal=\",\")\n"
      ],
      "metadata": {
        "id": "0JbIRq4R03d6"
      },
      "execution_count": 127,
      "outputs": []
    },
    {
      "cell_type": "code",
      "source": [
        "Sagomario\n",
        "#Sagomario.info()\n",
        "\n"
      ],
      "metadata": {
        "id": "AeG2Ar9s1i3J"
      },
      "execution_count": null,
      "outputs": []
    },
    {
      "cell_type": "code",
      "source": [
        "from pickle import TRUE\n",
        "#@title Carga general de datos\n",
        "Qteorico=np.array(np.linspace(1, 20000, 20000, endpoint=True,dtype=int)) #Nm3/h\n",
        "Temp_celsius = 25 #@param {type:\"integer\"}\n",
        "Altitud_m = 20 #@param {type:\"number\"}\n",
        "atm_local=(1-0.00002257*Altitud_m)**5.256\n",
        "#@markdown Indicar valor de presion de partida (tildar unidad de ingreso)\n",
        "Barg = True #@param {type:\"boolean\"}\n",
        "Kgcm2 = False #@param {type:\"boolean\"}\n",
        "Pressure_in = 15 #@param {type:\"number\"}\n",
        "Temp=(Temp_celsius+273.15)/273.15 #temperatura en kelvin\n",
        "\n",
        "if Barg==True and Kgcm2== False:\n",
        "   Pressure_op= Pressure_in*0.986923 #atm\n",
        "elif Barg==False and Kgcm2== True:\n",
        "   Pressure_op= Pressure_in*0.967841 # atm\n",
        "else :\n",
        "   print('Mensaje ERROR: Se requiere opción de unidad , Tildar solo una')\n",
        "\n",
        "#print(atm_local)\n",
        "#print(Temp*273.15)\n",
        "#print(Temp)\n",
        "Qnormalizado=np.round(Qteorico*(Temp*(1/(atm_local+Pressure_op))),decimals=2)\n",
        "\n",
        "\n",
        "\n"
      ],
      "metadata": {
        "id": "7XjYbd8ZzHwm"
      },
      "execution_count": 165,
      "outputs": []
    },
    {
      "cell_type": "code",
      "source": [
        "def velocidad(caudal,d):\n",
        "  V=(caudal/3600)/(((np.pi)*((float(d)/1000)**2))/4)\n",
        "  return [V]\n",
        "\n",
        "\n"
      ],
      "metadata": {
        "id": "MdaCh1JU5w2u"
      },
      "execution_count": 146,
      "outputs": []
    },
    {
      "cell_type": "code",
      "source": [
        "#@title Tramo 1\n",
        "Diametro = \"8\" #@param {type:\"string\"}\n",
        "Schedule = \"SCH80\" #@param {type:\"string\"}\n",
        "\n",
        "D=Sagomario.loc[Sagomario.loc[:,'DN'] ==Diametro]['DE']-Sagomario.loc[Sagomario.loc[:,'DN'] == Diametro][Schedule]*2\n",
        "Velocity=np.array(velocidad(Qnormalizado,D))\n",
        "Velocity[np.where(Velocity>=9)]\n",
        "\n",
        "\n",
        "\n"
      ],
      "metadata": {
        "colab": {
          "base_uri": "https://localhost:8080/"
        },
        "id": "l9pNIU5l0-2m",
        "outputId": "108996f4-3ff8-486e-f0ae-dfd32ad10039"
      },
      "execution_count": 166,
      "outputs": [
        {
          "output_type": "execute_result",
          "data": {
            "text/plain": [
              "array([ 9.00028451,  9.00094436,  9.00160421, ..., 13.02179854,\n",
              "       13.02245839, 13.02311824])"
            ]
          },
          "metadata": {},
          "execution_count": 166
        }
      ]
    }
  ]
}