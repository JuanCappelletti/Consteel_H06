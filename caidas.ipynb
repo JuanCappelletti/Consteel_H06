{
  "nbformat": 4,
  "nbformat_minor": 0,
  "metadata": {
    "colab": {
      "provenance": [],
      "authorship_tag": "ABX9TyMkkrc4r1wayc/Tic+gSCF/",
      "include_colab_link": true
    },
    "kernelspec": {
      "name": "python3",
      "display_name": "Python 3"
    },
    "language_info": {
      "name": "python"
    }
  },
  "cells": [
    {
      "cell_type": "markdown",
      "metadata": {
        "id": "view-in-github",
        "colab_type": "text"
      },
      "source": [
        "<a href=\"https://colab.research.google.com/github/JuanCappelletti/Consteel_H06/blob/trends/caidas.ipynb\" target=\"_parent\"><img src=\"https://colab.research.google.com/assets/colab-badge.svg\" alt=\"Open In Colab\"/></a>"
      ]
    },
    {
      "cell_type": "code",
      "source": [
        "#@title Ejecutar librerias { run: \"auto\", display-mode: \"form\" }\n",
        "from matplotlib.font_manager import json_dump\n",
        "from numpy.matrixlib.defmatrix import N\n",
        "from operator import truediv\n",
        "import numpy as np\n",
        "import pandas as pd\n",
        "from matplotlib.ticker import (MultipleLocator, AutoMinorLocator)\n",
        "import matplotlib.pyplot as plt\n",
        "import plotly.graph_objects as go\n",
        "from IPython.display import Image\n",
        "\n",
        "#Carga de tablas_______________\n",
        "Url = \"https://raw.githubusercontent.com/JuanCappelletti/Consteel_H06/main/sagomario.csv\"\n",
        "Sagomario = pd.read_csv(Url,sep=\";\",decimal=\",\")\n"
      ],
      "metadata": {
        "id": "0JbIRq4R03d6"
      },
      "execution_count": 1,
      "outputs": []
    },
    {
      "cell_type": "code",
      "source": [
        "#Sagomario\n"
      ],
      "metadata": {
        "id": "AeG2Ar9s1i3J"
      },
      "execution_count": 2,
      "outputs": []
    },
    {
      "cell_type": "code",
      "source": [
        "from pickle import TRUE\n",
        "#@title Carga general de datos\n",
        "Qteorico=np.array(np.linspace(1, 18000, 18000, endpoint=True,dtype=int)) #Nm3/h\n",
        "Temp_celsius = 25 #@param {type:\"integer\"}\n",
        "Altitud_m = 20 #@param {type:\"number\"}\n",
        "atm_local=(1-0.00002257*Altitud_m)**5.256\n",
        "#@markdown Indicar valor de presion de partida (tildar unidad de ingreso)\n",
        "Barg = True #@param {type:\"boolean\"}\n",
        "Kgcm2 = False #@param {type:\"boolean\"}\n",
        "Pressure_in = 15 #@param {type:\"number\"}\n",
        "Temp=(Temp_celsius+273.15)/273.15 #temperatura en kelvin\n",
        "\n",
        "if Barg==True and Kgcm2== False:\n",
        "   Pressure_op= Pressure_in*0.986923 #atm\n",
        "elif Barg==False and Kgcm2== True:\n",
        "   Pressure_op= Pressure_in*0.967841 # atm\n",
        "else :\n",
        "   print('Mensaje ERROR: Se requiere opción de unidad , Tildar solo una')\n",
        "\n",
        "#print(atm_local)\n",
        "#print(Temp*273.15)\n",
        "#print(Temp)\n",
        "Qnormalizado=np.round(Qteorico*(Temp*(1/(atm_local+Pressure_op))),decimals=2)\n",
        "\n",
        "\n"
      ],
      "metadata": {
        "id": "7XjYbd8ZzHwm"
      },
      "execution_count": 14,
      "outputs": []
    },
    {
      "cell_type": "code",
      "source": [
        "#@title Tramo 1\n",
        "\n",
        "\n",
        "\n",
        "\n",
        "\n",
        "##datos = pd.read_csv(Url,sep=\";\",decimal=\",\")\n",
        "##df=pd.DataFrame(datos)\n",
        "#dfx=df.copy()\n",
        "#Qnormalizado[np.where(Qteorico==14000)]\n"
      ],
      "metadata": {
        "colab": {
          "base_uri": "https://localhost:8080/"
        },
        "id": "l9pNIU5l0-2m",
        "outputId": "0a51c042-f18e-4f1f-f389-98f61825faea"
      },
      "execution_count": 17,
      "outputs": [
        {
          "output_type": "execute_result",
          "data": {
            "text/plain": [
              "array([967.08])"
            ]
          },
          "metadata": {},
          "execution_count": 17
        }
      ]
    },
    {
      "cell_type": "code",
      "source": [
        "def velocidad(Caudal):\n",
        "  Velocity=Caudal/1000\n",
        "  print(Velocity)"
      ],
      "metadata": {
        "id": "MdaCh1JU5w2u"
      },
      "execution_count": null,
      "outputs": []
    },
    {
      "cell_type": "code",
      "source": [
        "velocidad(Qteorico)\n",
        "\n"
      ],
      "metadata": {
        "colab": {
          "base_uri": "https://localhost:8080/"
        },
        "id": "rI51-v8-7nZS",
        "outputId": "cb575e59-1f15-4ebf-f512-6d793b0465e6"
      },
      "execution_count": null,
      "outputs": [
        {
          "output_type": "stream",
          "name": "stdout",
          "text": [
            "[1.0000e-03 6.0000e-03 1.1000e-02 ... 1.7989e+01 1.7994e+01 1.8000e+01]\n"
          ]
        }
      ]
    }
  ]
}