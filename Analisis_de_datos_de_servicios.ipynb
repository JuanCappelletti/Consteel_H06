{
  "nbformat": 4,
  "nbformat_minor": 0,
  "metadata": {
    "colab": {
      "provenance": [],
      "toc_visible": true,
      "authorship_tag": "ABX9TyMo5wihJOd8tvldb8yBFVSK",
      "include_colab_link": true
    },
    "kernelspec": {
      "name": "python3",
      "display_name": "Python 3"
    },
    "language_info": {
      "name": "python"
    }
  },
  "cells": [
    {
      "cell_type": "markdown",
      "metadata": {
        "id": "view-in-github",
        "colab_type": "text"
      },
      "source": [
        "<a href=\"https://colab.research.google.com/github/JuanCappelletti/Consteel_H06/blob/main/Analisis_de_datos_de_servicios.ipynb\" target=\"_parent\"><img src=\"https://colab.research.google.com/assets/colab-badge.svg\" alt=\"Open In Colab\"/></a>"
      ]
    },
    {
      "cell_type": "code",
      "execution_count": 54,
      "metadata": {
        "id": "-rtVCMWHvQhN"
      },
      "outputs": [],
      "source": [
        "from pandas.core.dtypes.dtypes import dtypes\n",
        "\n",
        "import pandas as pd\n",
        "url='https://raw.githubusercontent.com/JuanCappelletti/Consteel_H06/main/Trend2809.csv'\n",
        "datos = pd.read_csv(url,sep=';', index_col=0,)\n",
        "#df=pd.DataFrame(datos)\n",
        "#print(df.dtypes)\n",
        "#.astype(int)\n",
        "\n",
        "#aux=df['FQI-161']+1\n",
        "#df=df.assign(FQI155=aux.values)\n",
        "#print(df)\n",
        "\n"
      ]
    }
  ]
}