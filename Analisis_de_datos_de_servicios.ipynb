{
  "nbformat": 4,
  "nbformat_minor": 0,
  "metadata": {
    "colab": {
      "provenance": [],
      "toc_visible": true,
      "authorship_tag": "ABX9TyMapiM7BQQEo3/A80BYvOfL",
      "include_colab_link": true
    },
    "kernelspec": {
      "name": "python3",
      "display_name": "Python 3"
    },
    "language_info": {
      "name": "python"
    }
  },
  "cells": [
    {
      "cell_type": "markdown",
      "metadata": {
        "id": "view-in-github",
        "colab_type": "text"
      },
      "source": [
        "<a href=\"https://colab.research.google.com/github/JuanCappelletti/Consteel_H06/blob/main/Analisis_de_datos_de_servicios.ipynb\" target=\"_parent\"><img src=\"https://colab.research.google.com/assets/colab-badge.svg\" alt=\"Open In Colab\"/></a>"
      ]
    },
    {
      "cell_type": "code",
      "execution_count": 35,
      "metadata": {
        "colab": {
          "base_uri": "https://localhost:8080/"
        },
        "id": "-rtVCMWHvQhN",
        "outputId": "8cdced27-9cf5-48ac-eb3e-78e7a2467571"
      },
      "outputs": [
        {
          "output_type": "stream",
          "name": "stdout",
          "text": [
            "<class 'pandas.core.frame.DataFrame'>\n",
            "Index: 960 entries, 9/28/2022 to 9/28/2022\n",
            "Data columns (total 8 columns):\n",
            " #   Column  Non-Null Count  Dtype  \n",
            "---  ------  --------------  -----  \n",
            " 0   Time    960 non-null    object \n",
            " 1   FQI161  960 non-null    float64\n",
            " 2   PIR161  960 non-null    float64\n",
            " 3   FQI165  960 non-null    float64\n",
            " 4   FQI169  960 non-null    float64\n",
            " 5   FQI177  960 non-null    float64\n",
            " 6   FQI173  960 non-null    float64\n",
            " 7   FQI151  960 non-null    float64\n",
            "dtypes: float64(7), object(1)\n",
            "memory usage: 67.5+ KB\n"
          ]
        }
      ],
      "source": [
        "import pandas as pd\n",
        "url='https://raw.githubusercontent.com/JuanCappelletti/Consteel_H06/main/Trend2809.csv'\n",
        "datos = pd.read_csv(url,sep=\";\",decimal=\",\",index_col=0)\n",
        "df=pd.DataFrame(datos)\n",
        "df.info()\n",
        "#print(df.dtypes)\n",
        "#print(df)"
      ]
    },
    {
      "cell_type": "code",
      "source": [
        "import matplotlib.pyplot as plt\n",
        "plt.figure(figsize=(16,8))\n",
        "df.FQI161.describe()\n",
        "df.FQI161.nlargest(n=20)\n",
        "#df.plot()\n",
        "\n"
      ],
      "metadata": {
        "colab": {
          "base_uri": "https://localhost:8080/",
          "height": 416
        },
        "id": "q4BuW1DW-r-q",
        "outputId": "fbb4ec87-7886-43d3-b1f0-3f2172095ee0"
      },
      "execution_count": 39,
      "outputs": [
        {
          "output_type": "execute_result",
          "data": {
            "text/plain": [
              "Fecha\n",
              "9/28/2022    23184.19\n",
              "9/28/2022    13692.69\n",
              "9/28/2022    13643.27\n",
              "9/28/2022    13543.92\n",
              "9/28/2022    13448.86\n",
              "9/28/2022    13364.77\n",
              "9/28/2022    13261.47\n",
              "9/28/2022    13211.07\n",
              "9/28/2022    13203.50\n",
              "9/28/2022    13070.69\n",
              "9/28/2022    13063.41\n",
              "9/28/2022    13043.27\n",
              "9/28/2022    13018.89\n",
              "9/28/2022    13011.37\n",
              "9/28/2022    12933.25\n",
              "9/28/2022    12912.60\n",
              "9/28/2022    12797.22\n",
              "9/28/2022    12781.89\n",
              "9/28/2022    12725.69\n",
              "9/28/2022    12718.61\n",
              "Name: FQI161, dtype: float64"
            ]
          },
          "metadata": {},
          "execution_count": 39
        },
        {
          "output_type": "display_data",
          "data": {
            "text/plain": [
              "<Figure size 1152x576 with 0 Axes>"
            ]
          },
          "metadata": {}
        }
      ]
    }
  ]
}