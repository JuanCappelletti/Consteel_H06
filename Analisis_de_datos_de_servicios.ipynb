{
  "nbformat": 4,
  "nbformat_minor": 0,
  "metadata": {
    "colab": {
      "provenance": [],
      "toc_visible": true,
      "authorship_tag": "ABX9TyNEwBsgHDLeDwVLozFp+fHm",
      "include_colab_link": true
    },
    "kernelspec": {
      "name": "python3",
      "display_name": "Python 3"
    },
    "language_info": {
      "name": "python"
    }
  },
  "cells": [
    {
      "cell_type": "markdown",
      "metadata": {
        "id": "view-in-github",
        "colab_type": "text"
      },
      "source": [
        "<a href=\"https://colab.research.google.com/github/JuanCappelletti/Consteel_H06/blob/main/Analisis_de_datos_de_servicios.ipynb\" target=\"_parent\"><img src=\"https://colab.research.google.com/assets/colab-badge.svg\" alt=\"Open In Colab\"/></a>"
      ]
    },
    {
      "cell_type": "code",
      "execution_count": 105,
      "metadata": {
        "colab": {
          "base_uri": "https://localhost:8080/"
        },
        "id": "-rtVCMWHvQhN",
        "outputId": "fae97f99-9b36-4aa5-83e0-2140a6d0ce30"
      },
      "outputs": [
        {
          "output_type": "stream",
          "name": "stdout",
          "text": [
            "Time       object\n",
            "FQI161    float64\n",
            "PIR161    float64\n",
            "FQI165    float64\n",
            "FQI169    float64\n",
            "FQI177    float64\n",
            "FQI173    float64\n",
            "FQI151    float64\n",
            "dtype: object\n",
            "               Time    FQI161  PIR161   FQI165   FQI169  FQI177  FQI173  \\\n",
            "Fecha                                                                     \n",
            "9/28/2022  00:00:00  11317.84   11.74  5682.65  5004.50    0.00   48.57   \n",
            "9/28/2022  00:01:29  11695.65   11.65  6321.75  4628.89   87.19   99.78   \n",
            "9/28/2022  00:02:59  11197.50   11.76  6346.50  3662.00  174.38  102.56   \n",
            "9/28/2022  00:04:29  11063.07   11.81  6147.53  3657.38   92.64  108.14   \n",
            "9/28/2022  00:05:59   9862.39   11.93  4270.71  3669.67  258.36  123.67   \n",
            "...             ...       ...     ...      ...      ...     ...     ...   \n",
            "9/28/2022  23:52:29   7575.26   12.52  3003.53  2075.50  200.00  116.63   \n",
            "9/28/2022  23:53:59   9039.18   12.40  2759.43  4322.56  156.69   66.83   \n",
            "9/28/2022  23:55:29   9758.00   12.20  2742.92  5005.75  160.44   62.00   \n",
            "9/28/2022  23:56:59   8996.36   12.32  1579.13  5100.33  151.41  176.88   \n",
            "9/28/2022  23:58:29   8718.73   12.50   988.25  5086.11  223.44  137.62   \n",
            "\n",
            "            FQI151  \n",
            "Fecha               \n",
            "9/28/2022   582.12  \n",
            "9/28/2022   558.04  \n",
            "9/28/2022   912.06  \n",
            "9/28/2022  1057.38  \n",
            "9/28/2022  1539.98  \n",
            "...            ...  \n",
            "9/28/2022  2179.60  \n",
            "9/28/2022  1733.67  \n",
            "9/28/2022  1786.89  \n",
            "9/28/2022  1988.61  \n",
            "9/28/2022  2283.31  \n",
            "\n",
            "[960 rows x 8 columns]\n"
          ]
        }
      ],
      "source": [
        "import pandas as pd\n",
        "url='https://raw.githubusercontent.com/JuanCappelletti/Consteel_H06/main/Trend2809.csv'\n",
        "datos = pd.read_csv(url,sep=\";\",decimal=\",\",index_col=0)\n",
        "df=pd.DataFrame(datos)\n",
        "print(df.dtypes)\n",
        "print(df)\n",
        "\n",
        "\n",
        "\n"
      ]
    }
  ]
}