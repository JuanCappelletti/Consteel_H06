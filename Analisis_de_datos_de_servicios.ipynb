{
  "nbformat": 4,
  "nbformat_minor": 0,
  "metadata": {
    "colab": {
      "provenance": [],
      "toc_visible": true,
      "authorship_tag": "ABX9TyPzMvkV44N8f06DUn3Fm8WO",
      "include_colab_link": true
    },
    "kernelspec": {
      "name": "python3",
      "display_name": "Python 3"
    },
    "language_info": {
      "name": "python"
    }
  },
  "cells": [
    {
      "cell_type": "markdown",
      "metadata": {
        "id": "view-in-github",
        "colab_type": "text"
      },
      "source": [
        "<a href=\"https://colab.research.google.com/github/JuanCappelletti/Consteel_H06/blob/main/Analisis_de_datos_de_servicios.ipynb\" target=\"_parent\"><img src=\"https://colab.research.google.com/assets/colab-badge.svg\" alt=\"Open In Colab\"/></a>"
      ]
    },
    {
      "cell_type": "code",
      "execution_count": 50,
      "metadata": {
        "colab": {
          "base_uri": "https://localhost:8080/"
        },
        "id": "-rtVCMWHvQhN",
        "outputId": "3ac705a1-b713-4afb-a15d-a59a4c059356"
      },
      "outputs": [
        {
          "output_type": "stream",
          "name": "stdout",
          "text": [
            "Time       object\n",
            "FQI-161    object\n",
            "PIR-161    object\n",
            "FQI-165    object\n",
            "FQI-169    object\n",
            "FQI-177    object\n",
            "FQI-173    object\n",
            "dtype: object\n"
          ]
        }
      ],
      "source": [
        "from pandas.core.dtypes.dtypes import dtypes\n",
        "\n",
        "import pandas as pd\n",
        "url='https://raw.githubusercontent.com/JuanCappelletti/Consteel_H06/main/Trend2809.csv'\n",
        "datos = pd.read_csv(url,sep=';', index_col=0,)\n",
        "df=pd.DataFrame(datos)\n",
        "print(df.dtypes)\n",
        "#.astype(int)\n",
        "\n",
        "#aux=df['FQI-161']+1\n",
        "#df=df.assign(FQI155=aux.values)\n",
        "#print(df)\n",
        "\n"
      ]
    }
  ]
}