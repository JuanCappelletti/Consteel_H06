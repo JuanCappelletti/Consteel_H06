{
  "nbformat": 4,
  "nbformat_minor": 0,
  "metadata": {
    "colab": {
      "provenance": [],
      "toc_visible": true,
      "authorship_tag": "ABX9TyMHgUGKJCKcMKIkUmmjAepv",
      "include_colab_link": true
    },
    "kernelspec": {
      "name": "python3",
      "display_name": "Python 3"
    },
    "language_info": {
      "name": "python"
    }
  },
  "cells": [
    {
      "cell_type": "markdown",
      "metadata": {
        "id": "view-in-github",
        "colab_type": "text"
      },
      "source": [
        "<a href=\"https://colab.research.google.com/github/JuanCappelletti/Consteel_H06/blob/main/Analisis_de_datos_de_servicios.ipynb\" target=\"_parent\"><img src=\"https://colab.research.google.com/assets/colab-badge.svg\" alt=\"Open In Colab\"/></a>"
      ]
    },
    {
      "cell_type": "code",
      "execution_count": 25,
      "metadata": {
        "colab": {
          "base_uri": "https://localhost:8080/"
        },
        "id": "-rtVCMWHvQhN",
        "outputId": "bcdd3d3e-70c6-418c-94ff-25592c511d4d"
      },
      "outputs": [
        {
          "output_type": "stream",
          "name": "stdout",
          "text": [
            "               Time      FQI-161    PIR-161      FQI-165      FQI-169  \\\n",
            "Fecha                                                                   \n",
            "9/28/2022   0:00:00   11317,8418  11,741666  5682,647461       5004,5   \n",
            "9/28/2022   0:01:29  11695,64746  11,652187      6321,75  4628,888672   \n",
            "9/28/2022   0:02:59      11197,5  11,763449       6346,5  3662,000244   \n",
            "9/28/2022   0:04:29  11063,07129   11,81138  6147,533691     3657,375   \n",
            "9/28/2022   0:05:59  9862,388672  11,934332  4270,714355  3669,666748   \n",
            "...             ...          ...        ...          ...          ...   \n",
            "9/28/2022  23:52:29  7575,263672  12,522902  3003,529541       2075,5   \n",
            "9/28/2022  23:53:59  9039,177734  12,404376  2759,428467  4322,555664   \n",
            "9/28/2022  23:55:29         9758  12,197667  2742,923096      5005,75   \n",
            "9/28/2022  23:56:59  8996,357422  12,320967  1579,133301  5100,333496   \n",
            "9/28/2022  23:58:29  8718,733398  12,498966   988,249939  5086,111328   \n",
            "\n",
            "              FQI-177     FQI-173  \n",
            "Fecha                              \n",
            "9/28/2022           0    48,57143  \n",
            "9/28/2022   87,192307   99,777786  \n",
            "9/28/2022  174,384613  102,555557  \n",
            "9/28/2022   92,642853   108,14286  \n",
            "9/28/2022  258,363647  123,666656  \n",
            "...               ...         ...  \n",
            "9/28/2022         200     116,625  \n",
            "9/28/2022  156,687515   66,833328  \n",
            "9/28/2022    160,4375          62  \n",
            "9/28/2022  151,411789     176,875  \n",
            "9/28/2022  223,437485  137,624985  \n",
            "\n",
            "[960 rows x 7 columns]\n"
          ]
        }
      ],
      "source": [
        "from urllib import parse\n",
        "import pandas as pd\n",
        "url='https://raw.githubusercontent.com/JuanCappelletti/Consteel_H06/main/Trend2809.csv'\n",
        "datos = pd.read_csv(url,sep=';', index_col=0, )\n",
        "print(datos)\n",
        "\n"
      ]
    }
  ]
}