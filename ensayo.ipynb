{
  "nbformat": 4,
  "nbformat_minor": 0,
  "metadata": {
    "colab": {
      "provenance": [],
      "authorship_tag": "ABX9TyMTqiSvwmVvI9E78478DAAA",
      "include_colab_link": true
    },
    "kernelspec": {
      "name": "python3",
      "display_name": "Python 3"
    },
    "language_info": {
      "name": "python"
    }
  },
  "cells": [
    {
      "cell_type": "markdown",
      "metadata": {
        "id": "view-in-github",
        "colab_type": "text"
      },
      "source": [
        "<a href=\"https://colab.research.google.com/github/JuanCappelletti/Consteel_H06/blob/trends/ensayo.ipynb\" target=\"_parent\"><img src=\"https://colab.research.google.com/assets/colab-badge.svg\" alt=\"Open In Colab\"/></a>"
      ]
    },
    {
      "cell_type": "code",
      "source": [
        "#@title Ejecutar librerias { run: \"auto\", display-mode: \"form\" }\n",
        "\n",
        "from numpy.matrixlib.defmatrix import N\n",
        "from operator import truediv\n",
        "import numpy as np\n",
        "import pandas as pd\n",
        "import glob\n",
        "from matplotlib.ticker import (MultipleLocator, AutoMinorLocator)\n",
        "import matplotlib.pyplot as plt\n",
        "import plotly.graph_objects as go"
      ],
      "metadata": {
        "id": "mZvfMuUXWPjw"
      },
      "execution_count": 2,
      "outputs": []
    },
    {
      "cell_type": "code",
      "execution_count": null,
      "metadata": {
        "id": "iBWj_2LfV9qd"
      },
      "outputs": [],
      "source": [
        "#@title CARGA DE DATA_SET \n",
        "Url = \"\" #@param {type:\"string\"}\n",
        "Url1 = \"\" #@param {type:\"string\"}\n",
        "\n",
        "#datos = pd.read_csv(Url,sep=\";\",decimal=\",\")#index_col=0\n",
        "#df=pd.DataFrame(datos)\n",
        "#n=100\n",
        "  \n",
        "folder_path = 'Path_of_file/csv_files'\n",
        "file_list = glob.glob(folder_path + \"/*.csv\")\n",
        "main_dataframe = pd.DataFrame(pd.read_csv(file_list[0]))\n",
        "for i in range(1,len(file_list)):\n",
        "    data = pd.read_csv(file_list[i])\n",
        "    df = pd.DataFrame(data)\n",
        "    main_dataframe = pd.concat([main_dataframe,df],axis=1)\n",
        "print(main_dataframe)\n",
        "  \n"
      ]
    }
  ]
}