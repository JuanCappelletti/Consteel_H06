{
  "nbformat": 4,
  "nbformat_minor": 0,
  "metadata": {
    "colab": {
      "provenance": [],
      "authorship_tag": "ABX9TyPdGqnffLz1LE0JKOD/sCjR",
      "include_colab_link": true
    },
    "kernelspec": {
      "name": "python3",
      "display_name": "Python 3"
    },
    "language_info": {
      "name": "python"
    }
  },
  "cells": [
    {
      "cell_type": "markdown",
      "metadata": {
        "id": "view-in-github",
        "colab_type": "text"
      },
      "source": [
        "<a href=\"https://colab.research.google.com/github/JuanCappelletti/Consteel_H06/blob/trends/ensayo.ipynb\" target=\"_parent\"><img src=\"https://colab.research.google.com/assets/colab-badge.svg\" alt=\"Open In Colab\"/></a>"
      ]
    },
    {
      "cell_type": "code",
      "source": [
        "#@title Ejecutar librerias { run: \"auto\", display-mode: \"form\" }\n",
        "\n",
        "from numpy.matrixlib.defmatrix import N\n",
        "from operator import truediv\n",
        "import numpy as np\n",
        "import pandas as pd\n",
        "from matplotlib.ticker import (MultipleLocator, AutoMinorLocator)\n",
        "import matplotlib.pyplot as plt\n",
        "import plotly.graph_objects as go"
      ],
      "metadata": {
        "id": "mZvfMuUXWPjw"
      },
      "execution_count": 1,
      "outputs": []
    },
    {
      "cell_type": "code",
      "execution_count": 8,
      "metadata": {
        "id": "iBWj_2LfV9qd"
      },
      "outputs": [],
      "source": [
        "#@title CARGA DE DATA_SET \n",
        "Url = \"https://raw.githubusercontent.com/JuanCappelletti/Consteel_H06/main/Trend1022.csv\" #@param {type:\"string\"}\n",
        "datos = pd.read_csv(Url,sep=\";\",decimal=\",\")\n",
        "df=pd.DataFrame(datos)"
      ]
    },
    {
      "cell_type": "code",
      "source": [
        "#@title Analisis rapidos del data_set\n",
        "a=np.array(round(df.FQI161.describe(),2))\n",
        "b=np.array(round(df.PIR161.describe(),2))\n",
        "c=np.array(round(df.FQI165.describe(),2))\n",
        "d=np.array(round(df.FQI169.describe(),2))\n",
        "e=np.array(round(df.FQI177.describe(),2))\n",
        "f=np.array(round(df.FQI173.describe(),2))\n",
        "g=np.array(round(df.FQI151.describe(),2))\n",
        "h=np.array([\"count\",\"mean\",\"std\",\"min\",\"25%\",\"50%\",\"75%\",\"max\"])\n",
        "R=np.array([\"Features\",\"FQI161\",\"PIR161\",\"FQI165\",\"FQI169\",\"FQI177\",\"FQI173\",\"FQI151\"])\n",
        "ke=np.array([h,a,b,c,d,e,f,g])\n",
        "dfD= pd.DataFrame(ke.T,columns=R)  \n",
        "\n",
        "def TABLA1 (R):\n",
        " fig_A1 = go.Figure(data=[go.Table(\n",
        "    header=dict(values=list(R.columns),\n",
        "                fill_color='lightgray',\n",
        "                align='left'),\n",
        "    cells=dict(values=[R.Features,R.FQI161, R.PIR161,R.FQI165,R.FQI169,R.FQI177,R.FQI173,R.FQI151],\n",
        "               fill_color='beige',\n",
        "               align='left'))\n",
        "  ])\n",
        " fig_A1.show()\n",
        "\n",
        "print('Analisis rapidos.' )\n",
        "\n",
        "\n",
        "TABLA1(dfD)"
      ],
      "metadata": {
        "cellView": "form",
        "id": "9lnNQK5Bc3RS"
      },
      "execution_count": null,
      "outputs": []
    }
  ]
}