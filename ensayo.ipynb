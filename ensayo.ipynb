{
  "nbformat": 4,
  "nbformat_minor": 0,
  "metadata": {
    "colab": {
      "provenance": [],
      "authorship_tag": "ABX9TyNefWpIxM4+0Oecl98fbfkU",
      "include_colab_link": true
    },
    "kernelspec": {
      "name": "python3",
      "display_name": "Python 3"
    },
    "language_info": {
      "name": "python"
    }
  },
  "cells": [
    {
      "cell_type": "markdown",
      "metadata": {
        "id": "view-in-github",
        "colab_type": "text"
      },
      "source": [
        "<a href=\"https://colab.research.google.com/github/JuanCappelletti/Consteel_H06/blob/trends/ensayo.ipynb\" target=\"_parent\"><img src=\"https://colab.research.google.com/assets/colab-badge.svg\" alt=\"Open In Colab\"/></a>"
      ]
    },
    {
      "cell_type": "code",
      "source": [
        "#@title Ejecutar librerias { run: \"auto\", display-mode: \"form\" }\n",
        "from matplotlib.font_manager import json_dump\n",
        "from numpy.matrixlib.defmatrix import N\n",
        "from operator import truediv\n",
        "import numpy as np\n",
        "import pandas as pd\n",
        "from matplotlib.ticker import (MultipleLocator, AutoMinorLocator)\n",
        "import matplotlib.pyplot as plt\n",
        "import plotly.graph_objects as go"
      ],
      "metadata": {
        "id": "mZvfMuUXWPjw"
      },
      "execution_count": 1,
      "outputs": []
    },
    {
      "cell_type": "code",
      "execution_count": 6,
      "metadata": {
        "id": "iBWj_2LfV9qd",
        "outputId": "2a7adae3-4f08-4d6e-ef76-55ddb7a1943f",
        "colab": {
          "base_uri": "https://localhost:8080/"
        }
      },
      "outputs": [
        {
          "output_type": "stream",
          "name": "stdout",
          "text": [
            "<class 'pandas.core.frame.DataFrame'>\n",
            "RangeIndex: 8640 entries, 0 to 8639\n",
            "Data columns (total 10 columns):\n",
            " #   Column  Non-Null Count  Dtype  \n",
            "---  ------  --------------  -----  \n",
            " 0   indice  8640 non-null   int64  \n",
            " 1   Date    8640 non-null   object \n",
            " 2   Time    8640 non-null   object \n",
            " 3   FQI161  8640 non-null   float64\n",
            " 4   PIR161  8640 non-null   float64\n",
            " 5   FQI165  8640 non-null   float64\n",
            " 6   FQI169  8640 non-null   float64\n",
            " 7   FQI177  8640 non-null   float64\n",
            " 8   FQI173  8640 non-null   float64\n",
            " 9   FQI151  8640 non-null   float64\n",
            "dtypes: float64(7), int64(1), object(2)\n",
            "memory usage: 675.1+ KB\n"
          ]
        }
      ],
      "source": [
        "#@title CARGA DE DATA_SET \n",
        "Url = \"https://raw.githubusercontent.com/JuanCappelletti/Consteel_H06/main/Trend1022.csv\" #@param {type:\"string\"}\n",
        "datos = pd.read_csv(Url,sep=\";\",decimal=\",\")\n",
        "df=pd.DataFrame(datos)\n",
        "\n",
        "\n",
        "df.info()\n",
        "\n"
      ]
    },
    {
      "cell_type": "code",
      "source": [
        "#@title Analisis rapidos del data_set\n",
        "a=np.array(round(df.FQI161.describe(),2))\n",
        "b=np.array(round(df.PIR161.describe(),2))\n",
        "c=np.array(round(df.FQI165.describe(),2))\n",
        "d=np.array(round(df.FQI169.describe(),2))\n",
        "e=np.array(round(df.FQI177.describe(),2))\n",
        "f=np.array(round(df.FQI173.describe(),2))\n",
        "g=np.array(round(df.FQI151.describe(),2))\n",
        "h=np.array([\"count\",\"mean\",\"std\",\"min\",\"25%\",\"50%\",\"75%\",\"max\"])\n",
        "R=np.array([\"Features\",\"FQI161\",\"PIR161\",\"FQI165\",\"FQI169\",\"FQI177\",\"FQI173\",\"FQI151\"])\n",
        "ke=np.array([h,a,b,c,d,e,f,g])\n",
        "dfD= pd.DataFrame(ke.T,columns=R)  \n",
        "\n",
        "def TABLA1 (R):\n",
        " fig_A1 = go.Figure(data=[go.Table(\n",
        "    header=dict(values=list(R.columns),\n",
        "                fill_color='lightgray',\n",
        "                align='left'),\n",
        "    cells=dict(values=[R.Features,R.FQI161, R.PIR161,R.FQI165,R.FQI169,R.FQI177,R.FQI173,R.FQI151],\n",
        "               fill_color='beige',\n",
        "               align='left'))\n",
        "  ])\n",
        " fig_A1.show()\n",
        "\n",
        "print('Analisis rapidos.' )\n",
        "\n",
        "\n",
        "TABLA1(dfD)"
      ],
      "metadata": {
        "cellView": "form",
        "id": "9lnNQK5Bc3RS"
      },
      "execution_count": null,
      "outputs": []
    },
    {
      "cell_type": "code",
      "execution_count": 8,
      "metadata": {
        "id": "6759d9dc-a33c-49dd-b4c8-561f6dd0edd9",
        "outputId": "c9aa1b3a-275f-4619-973c-f456423d5ad8",
        "colab": {
          "base_uri": "https://localhost:8080/"
        }
      },
      "outputs": [
        {
          "output_type": "stream",
          "name": "stderr",
          "text": [
            "/usr/local/lib/python3.7/dist-packages/pandas/core/series.py:1056: SettingWithCopyWarning: \n",
            "A value is trying to be set on a copy of a slice from a DataFrame\n",
            "\n",
            "See the caveats in the documentation: https://pandas.pydata.org/pandas-docs/stable/user_guide/indexing.html#returning-a-view-versus-a-copy\n",
            "  cacher_needs_updating = self._check_is_chained_assignment_possible()\n"
          ]
        },
        {
          "output_type": "stream",
          "name": "stdout",
          "text": [
            "      indice       Date      Time    FQI161  PIR161   FQI165   FQI169  FQI177  \\\n",
            "0          1  1/10/2022  00:00:00   4171.39   14.80  2568.86     0.00   11.50   \n",
            "1          2  1/10/2022  00:01:29   4466.73   14.63  2545.33     0.00  134.88   \n",
            "2          3  1/10/2022  00:02:59   4741.19   14.57  2546.29     0.00  173.25   \n",
            "3          4  1/10/2022  00:04:29   4391.12   14.34  2672.94     0.00   80.14   \n",
            "4          5  1/10/2022  00:05:59   6781.94   14.12  5317.06     0.00  152.17   \n",
            "...      ...        ...       ...       ...     ...      ...      ...     ...   \n",
            "8635    8636  9/10/2022  23:52:29  10793.83   12.03  3578.11  5002.75  183.29   \n",
            "8636    8637  9/10/2022  23:53:59  12508.94   11.67  6142.23  4973.89  100.40   \n",
            "8637    8638  9/10/2022  23:55:29  12273.11   11.71  5223.28  4921.89  200.79   \n",
            "8638    8639  9/10/2022  23:56:59   8377.06   12.25  2250.47  3648.22  308.50   \n",
            "8639    8640  9/10/2022  23:58:29   6874.46   12.57   959.13  3620.89  149.29   \n",
            "\n",
            "      FQI173   FQI151  \n",
            "0      45.89  1545.14  \n",
            "1      62.25  1724.27  \n",
            "2     164.33  1857.32  \n",
            "3     106.11  1531.93  \n",
            "4      68.00  1244.72  \n",
            "...      ...      ...  \n",
            "8635   98.14  1931.53  \n",
            "8636   30.33  1262.09  \n",
            "8637  104.44  1822.71  \n",
            "8638  164.22  2005.64  \n",
            "8639  120.75  2024.40  \n",
            "\n",
            "[8640 rows x 10 columns]\n",
            "<class 'pandas.core.frame.DataFrame'>\n",
            "RangeIndex: 8640 entries, 0 to 8639\n",
            "Data columns (total 10 columns):\n",
            " #   Column  Non-Null Count  Dtype  \n",
            "---  ------  --------------  -----  \n",
            " 0   indice  8640 non-null   int64  \n",
            " 1   Date    8640 non-null   object \n",
            " 2   Time    8640 non-null   object \n",
            " 3   FQI161  8640 non-null   float64\n",
            " 4   PIR161  8640 non-null   float64\n",
            " 5   FQI165  8640 non-null   float64\n",
            " 6   FQI169  8640 non-null   float64\n",
            " 7   FQI177  8640 non-null   float64\n",
            " 8   FQI173  8640 non-null   float64\n",
            " 9   FQI151  8640 non-null   float64\n",
            "dtypes: float64(7), int64(1), object(2)\n",
            "memory usage: 675.1+ KB\n"
          ]
        }
      ],
      "source": [
        "#@title TREND DE PRESIÓN Y CAUDAL DEL DATASET\n",
        "#Data_set = df #@param {type:\"raw\"}\n",
        "\n",
        "# DEFINICION DE BARA EN COLORES\n",
        "\n",
        "def GRAFICAR_Q (Data_set):\n",
        "  lista=np.zeros(1)\n",
        "  fig, ax = plt.subplots(1, figsize=(100,30))\n",
        "  fig.suptitle('CAUDAL/ PRESION DE ENTRADA SIDERCA',fontsize=30)\n",
        "  q=Data_set.FQI161/1000\n",
        "  p=Data_set.PIR161\n",
        "  x=Data_set.Date\n",
        "\n",
        "  bar1=np.arange(len(Data_set.Date))\n",
        "\n",
        "  ax.bar(bar1,Data_set.FQI161/1000,0.6,color=\"red\",alpha=0.8,label=\"Total(FQI161)\")\n",
        "  ax.plot(x,p ,color=\"blue\",label=\"PIR_161 entrada\")\n",
        "  e,=ax.plot(x,p,'o',color=\"black\")\n",
        "  plt.grid(visible=True,which='major',color='#666666',linestyle='-')\n",
        "  ax.yaxis.grid(True, which='minor')\n",
        "  ax.yaxis.set_minor_locator(MultipleLocator(1),)\n",
        "  fig.autofmt_xdate()\n",
        "  ax.legend(fontsize=30)\n",
        "  plt.show()\n",
        "#-----------------------------------------------------------------------\n",
        "def TABLA (R):\n",
        " fig_A = go.Figure(data=[go.Table(\n",
        "    header=dict(values=list(R.columns),\n",
        "                fill_color='paleturquoise',\n",
        "                align='left'),\n",
        "    cells=dict(values=[R.indice, R.Date,R.Time, R.FQI161, R.PIR161,R.FQI165,R.FQI169,R.FQI177,R.FQI173,R.FQI151],\n",
        "               fill_color='lavender',\n",
        "               align='left'))\n",
        "  ])\n",
        " fig_A.show()\n",
        "\n",
        "#________Main_____________________________________________________________\n",
        "df1=df.copy()\n",
        "\n",
        "for i in range(0,8640):\n",
        " df1.loc[i]['Date']=df.loc[i]['Date']+' '+df.loc[i]['Time']\n",
        "print(df1)\n",
        "df1.info()\n",
        "\n",
        "#GRAFICAR_Q(df1)"
      ]
    },
    {
      "cell_type": "code",
      "source": [],
      "metadata": {
        "id": "p5W02FgClNYr"
      },
      "execution_count": null,
      "outputs": []
    }
  ]
}