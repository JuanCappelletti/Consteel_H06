{
  "cells": [
    {
      "cell_type": "markdown",
      "metadata": {
        "id": "view-in-github",
        "colab_type": "text"
      },
      "source": [
        "<a href=\"https://colab.research.google.com/github/JuanCappelletti/Consteel_H06/blob/main/ANALISIS%20FLUIDOS%20GASEOSOS%20.ipynb\" target=\"_parent\"><img src=\"https://colab.research.google.com/assets/colab-badge.svg\" alt=\"Open In Colab\"/></a>"
      ]
    },
    {
      "cell_type": "code",
      "execution_count": 99,
      "id": "b2165176-03a5-4a05-9b78-5aaee0a51117",
      "metadata": {
        "id": "b2165176-03a5-4a05-9b78-5aaee0a51117"
      },
      "outputs": [],
      "source": [
        "from operator import truediv\n",
        "from numpy import true_divide\n",
        "import pandas as pd\n",
        "url='https://raw.githubusercontent.com/JuanCappelletti/Consteel_H06/main/Trend280922.csv'\n",
        "datos = pd.read_csv(url,sep=\";\",decimal=\",\",index_col=0)\n",
        "df=pd.DataFrame(datos)\n",
        "n=160\n",
        "#df.head()\n",
        "#df.info()\n",
        "# segmentan para la curva\n",
        "for i in range(1,960):\n",
        "  if i<=160:df1=df.iloc[:160]\n",
        "  if (i>160 and i<=320):df2=df.iloc[160:320]\n",
        "  if (i>320 and i<=480):df3=df.iloc[320:480]\n",
        "  if (i>480 and i<=640):df4=df.iloc[480:640]\n",
        "  if (i>640 and i<=800):df5=df.iloc[640:800]\n",
        "  if (i>800 and i<=960):df6=df.iloc[800:960]\n",
        "\n",
        "#print(df.FQI161.nlargest(n=20))\n",
        "#print(df.FQI161.nsmallest(n=20),df.PIR161)\n",
        "#print(df.FQI161.describe())\n",
        "#print(df1.FQI161.describe())\n"
      ]
    },
    {
      "cell_type": "code",
      "execution_count": 96,
      "id": "aa078cbe-208b-48d5-a698-7e755bf143f7",
      "metadata": {
        "tags": [],
        "id": "aa078cbe-208b-48d5-a698-7e755bf143f7"
      },
      "outputs": [],
      "source": [
        "import matplotlib.pyplot as plt\n",
        "def GRAFICAR_Q (T):\n",
        "  fig, ax = plt.subplots(1, figsize=(60,15))\n",
        "  fig.suptitle('CAUDAL DE ENTRADA SIDERCA',fontsize=30)\n",
        "  q=T.FQI161\n",
        "  x=T.Time\n",
        "  ax.plot(x,q ,color=\"Blue\",label=\"FQI_161 entrada\")\n",
        "  p,=ax.plot(x,q,'o',color=\"red\")\n",
        "  plt.grid(visible=True,which='major',color='#666666',linestyle='-')\n",
        "  fig.autofmt_xdate()\n",
        "  plt.show()\n",
        "def GRAFICAR_P(T):\n",
        "  fig1, ax0 = plt.subplots(1, figsize=(60,15))\n",
        "  fig1.suptitle('PRESION DE ENTRADA SIDERCA',fontsize=30)\n",
        "  p=T.PIR161\n",
        "  x=T.Time\n",
        "  ax0.plot(x,p ,color=\"Blue\",label=\"FQI_161 entrada\")\n",
        "  p,=ax0.plot(x,p,'o',color=\"red\")\n",
        "  plt.grid(visible=True,which='major',color='#666666',linestyle='-')\n",
        "  fig1.autofmt_xdate()\n",
        "  plt.show()"
      ]
    },
    {
      "cell_type": "markdown",
      "source": [
        "# ***Trends de caudal y presión caudalimetro entrada.***"
      ],
      "metadata": {
        "id": "wCDM2o-lZ7UB"
      },
      "id": "wCDM2o-lZ7UB"
    },
    {
      "cell_type": "code",
      "source": [
        "T=df4"
      ],
      "metadata": {
        "id": "-xly89IQgquR"
      },
      "id": "-xly89IQgquR",
      "execution_count": 109,
      "outputs": []
    },
    {
      "cell_type": "code",
      "execution_count": null,
      "id": "6759d9dc-a33c-49dd-b4c8-561f6dd0edd9",
      "metadata": {
        "id": "6759d9dc-a33c-49dd-b4c8-561f6dd0edd9"
      },
      "outputs": [],
      "source": [
        "GRAFICAR_Q(T)"
      ]
    },
    {
      "cell_type": "code",
      "source": [
        "GRAFICAR_P(T)"
      ],
      "metadata": {
        "id": "xg3fwz2nZKnr"
      },
      "id": "xg3fwz2nZKnr",
      "execution_count": null,
      "outputs": []
    }
  ],
  "metadata": {
    "kernelspec": {
      "display_name": "Python 3 (ipykernel)",
      "language": "python",
      "name": "python3"
    },
    "language_info": {
      "codemirror_mode": {
        "name": "ipython",
        "version": 3
      },
      "file_extension": ".py",
      "mimetype": "text/x-python",
      "name": "python",
      "nbconvert_exporter": "python",
      "pygments_lexer": "ipython3",
      "version": "3.9.12"
    },
    "colab": {
      "provenance": [],
      "toc_visible": true,
      "include_colab_link": true
    }
  },
  "nbformat": 4,
  "nbformat_minor": 5
}