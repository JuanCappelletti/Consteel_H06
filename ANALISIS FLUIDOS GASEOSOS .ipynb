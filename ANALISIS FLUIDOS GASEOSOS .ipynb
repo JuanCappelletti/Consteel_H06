{
  "cells": [
    {
      "cell_type": "markdown",
      "metadata": {
        "id": "view-in-github",
        "colab_type": "text"
      },
      "source": [
        "<a href=\"https://colab.research.google.com/github/JuanCappelletti/Consteel_H06/blob/main/ANALISIS%20FLUIDOS%20GASEOSOS%20.ipynb\" target=\"_parent\"><img src=\"https://colab.research.google.com/assets/colab-badge.svg\" alt=\"Open In Colab\"/></a>"
      ]
    },
    {
      "cell_type": "code",
      "execution_count": 2,
      "id": "b2165176-03a5-4a05-9b78-5aaee0a51117",
      "metadata": {
        "id": "b2165176-03a5-4a05-9b78-5aaee0a51117"
      },
      "outputs": [],
      "source": [
        "from operator import truediv\n",
        "from numpy import true_divide\n",
        "import pandas as pd\n",
        "url='https://raw.githubusercontent.com/JuanCappelletti/Consteel_H06/main/Trend280922.csv'\n",
        "datos = pd.read_csv(url,sep=\";\",decimal=\",\",index_col=0)\n",
        "df=pd.DataFrame(datos)\n",
        "n=160\n",
        "#df.head()\n",
        "#df.info()\n",
        "# segmentan para la curva\n",
        "for i in range(1,960):\n",
        "  if i<=160:df1=df.iloc[:160]\n",
        "  if (i>160 and i<=320):df2=df.iloc[160:320]\n",
        "  if (i>320 and i<=480):df3=df.iloc[320:480]\n",
        "  if (i>480 and i<=640):df4=df.iloc[480:640]\n",
        "  if (i>640 and i<=800):df5=df.iloc[640:800]\n",
        "  if (i>800 and i<=960):df6=df.iloc[800:960]\n",
        "\n",
        "\n",
        "\n"
      ]
    },
    {
      "cell_type": "code",
      "execution_count": 3,
      "id": "aa078cbe-208b-48d5-a698-7e755bf143f7",
      "metadata": {
        "tags": [],
        "id": "aa078cbe-208b-48d5-a698-7e755bf143f7"
      },
      "outputs": [],
      "source": [
        "import matplotlib.pyplot as plt\n",
        "def GRAFICAR_Q (T):\n",
        "  fig, ax = plt.subplots(1, figsize=(60,15))\n",
        "  fig.suptitle('CAUDAL DE ENTRADA SIDERCA',fontsize=30)\n",
        "  q=T.FQI161\n",
        "  x=T.Time\n",
        "  ax.plot(x,q ,color=\"Blue\",label=\"FQI_161 entrada\")\n",
        "  p,=ax.plot(x,q,'o',color=\"red\")\n",
        "  plt.grid(visible=True,which='major',color='#666666',linestyle='-')\n",
        "  fig.autofmt_xdate()\n",
        "  plt.show()\n",
        "def GRAFICAR_P(T):\n",
        "  fig1, ax0 = plt.subplots(1, figsize=(60,15))\n",
        "  fig1.suptitle('PRESION DE ENTRADA SIDERCA',fontsize=30)\n",
        "  p=T.PIR161\n",
        "  x=T.Time\n",
        "  ax0.plot(x,p ,color=\"Blue\",label=\"FQI_161 entrada\")\n",
        "  p,=ax0.plot(x,p,'o',color=\"red\")\n",
        "  plt.grid(visible=True,which='major',color='#666666',linestyle='-')\n",
        "  fig1.autofmt_xdate()\n",
        "  plt.show()"
      ]
    },
    {
      "cell_type": "markdown",
      "source": [
        "# ***Trends de caudal y presión caudalimetro entrada.***"
      ],
      "metadata": {
        "id": "wCDM2o-lZ7UB"
      },
      "id": "wCDM2o-lZ7UB"
    },
    {
      "cell_type": "code",
      "source": [
        "T=df4"
      ],
      "metadata": {
        "id": "-xly89IQgquR"
      },
      "id": "-xly89IQgquR",
      "execution_count": 4,
      "outputs": []
    },
    {
      "cell_type": "code",
      "execution_count": null,
      "id": "6759d9dc-a33c-49dd-b4c8-561f6dd0edd9",
      "metadata": {
        "id": "6759d9dc-a33c-49dd-b4c8-561f6dd0edd9"
      },
      "outputs": [],
      "source": [
        "GRAFICAR_Q(T)"
      ]
    },
    {
      "cell_type": "code",
      "source": [
        "GRAFICAR_P(T)"
      ],
      "metadata": {
        "id": "xg3fwz2nZKnr"
      },
      "id": "xg3fwz2nZKnr",
      "execution_count": null,
      "outputs": []
    },
    {
      "cell_type": "markdown",
      "source": [
        "# ***Analisis de maximos y minimos***"
      ],
      "metadata": {
        "id": "Ng2HX9nuhLlx"
      },
      "id": "Ng2HX9nuhLlx"
    },
    {
      "cell_type": "code",
      "source": [
        "print(df.FQI161.describe(),df.PIR161.describe())\n"
      ],
      "metadata": {
        "id": "LSzbBmIWhWJI",
        "outputId": "e82ba8a8-dd4d-4821-857f-8af223ada670",
        "colab": {
          "base_uri": "https://localhost:8080/"
        }
      },
      "id": "LSzbBmIWhWJI",
      "execution_count": 5,
      "outputs": [
        {
          "output_type": "stream",
          "name": "stdout",
          "text": [
            "count      960.000000\n",
            "mean      7451.091708\n",
            "std       2550.172517\n",
            "min        963.140000\n",
            "25%       5742.950000\n",
            "50%       7375.515000\n",
            "75%       9045.785000\n",
            "max      23184.190000\n",
            "Name: FQI161, dtype: float64 count    960.000000\n",
            "mean      13.079521\n",
            "std        0.981161\n",
            "min       11.470000\n",
            "25%       12.310000\n",
            "50%       12.945000\n",
            "75%       13.720000\n",
            "max       15.600000\n",
            "Name: PIR161, dtype: float64\n"
          ]
        }
      ]
    },
    {
      "cell_type": "code",
      "source": [
        "n_muestras=20\n",
        "dfmax=df.nlargest(n_muestras,'PIR161')\n",
        "#print(dfmax)\n",
        "dfmin=df.nsmallest(n_muestras,'PIR161')\n",
        "#print(dfmin)\n",
        "dfaux=df.loc[df.loc[:, 'PIR161'] <= 12]\n",
        "print(dfaux)"
      ],
      "metadata": {
        "id": "iIWD29rPiPFA"
      },
      "id": "iIWD29rPiPFA",
      "execution_count": null,
      "outputs": []
    }
  ],
  "metadata": {
    "kernelspec": {
      "display_name": "Python 3 (ipykernel)",
      "language": "python",
      "name": "python3"
    },
    "language_info": {
      "codemirror_mode": {
        "name": "ipython",
        "version": 3
      },
      "file_extension": ".py",
      "mimetype": "text/x-python",
      "name": "python",
      "nbconvert_exporter": "python",
      "pygments_lexer": "ipython3",
      "version": "3.9.12"
    },
    "colab": {
      "provenance": [],
      "toc_visible": true,
      "include_colab_link": true
    }
  },
  "nbformat": 4,
  "nbformat_minor": 5
}